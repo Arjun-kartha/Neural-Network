{
  "nbformat": 4,
  "nbformat_minor": 0,
  "metadata": {
    "colab": {
      "name": "Copy of Evaluation1(DL).ipynb",
      "provenance": [],
      "collapsed_sections": []
    },
    "kernelspec": {
      "name": "python3",
      "display_name": "Python 3"
    },
    "language_info": {
      "name": "python"
    }
  },
  "cells": [
    {
      "cell_type": "code",
      "metadata": {
        "id": "TISbpAgvKo2N"
      },
      "source": [
        "import keras\n",
        "import tensorflow as tf\n",
        "from keras import layers\n",
        "from keras.layers import Dense,Activation\n",
        "from tensorflow.keras import optimizers\n",
        "from tensorflow.keras import metrics\n",
        "import numpy as np\n",
        "x=np.array([[0.6,0.1]])\n",
        "w1=np.array([[0.1,0,0.3],[-0.2,0.2,-0.4]])\n",
        "b1=np.array([0,0,0])\n",
        "w2=np.array([[-0.4,0.2],[0.1,-0.1],[0.6,-0.2]])\n",
        "b2=np.array([0,0])\n",
        "y=np.array([[-0.1,0.6]])\n",
        "model=keras.Sequential()\n",
        "model.add(Dense(3,input_dim=2))\n",
        "model.add(Dense(2))\n",
        "model.set_weights([w1,b1,w2,b2])"
      ],
      "execution_count": null,
      "outputs": []
    },
    {
      "cell_type": "markdown",
      "metadata": {
        "id": "mjQtq8NUtR-T"
      },
      "source": [
        "\n",
        "### For **screw** - output class should be 01\n",
        "\n",
        "### For **nail** - output class should be 10"
      ]
    },
    {
      "cell_type": "markdown",
      "metadata": {
        "id": "829F8cV9ut25"
      },
      "source": [
        "# Training the model"
      ]
    },
    {
      "cell_type": "code",
      "metadata": {
        "colab": {
          "base_uri": "https://localhost:8080/"
        },
        "id": "3qnAR8fiNgG8",
        "outputId": "17fef71b-27f7-4168-e8f7-0c26bfa47d6f"
      },
      "source": [
        "optimizer = optimizers.Adagrad(learning_rate=0.1)\n",
        "model.compile(optimizer=optimizer,loss='mse',metrics =['RootMeanSquaredError','Accuracy'])\n",
        "model.fit(x,y,batch_size=3,epochs=50,verbose=1)"
      ],
      "execution_count": null,
      "outputs": [
        {
          "output_type": "stream",
          "text": [
            "Epoch 1/50\n",
            "1/1 [==============================] - 0s 454ms/step - loss: 0.2079 - root_mean_squared_error: 0.4560 - Accuracy: 0.0000e+00\n",
            "Epoch 2/50\n",
            "1/1 [==============================] - 0s 11ms/step - loss: 0.1238 - root_mean_squared_error: 0.3519 - Accuracy: 1.0000\n",
            "Epoch 3/50\n",
            "1/1 [==============================] - 0s 15ms/step - loss: 0.0872 - root_mean_squared_error: 0.2952 - Accuracy: 1.0000\n",
            "Epoch 4/50\n",
            "1/1 [==============================] - 0s 11ms/step - loss: 0.0645 - root_mean_squared_error: 0.2540 - Accuracy: 1.0000\n",
            "Epoch 5/50\n",
            "1/1 [==============================] - 0s 10ms/step - loss: 0.0484 - root_mean_squared_error: 0.2200 - Accuracy: 1.0000\n",
            "Epoch 6/50\n",
            "1/1 [==============================] - 0s 11ms/step - loss: 0.0363 - root_mean_squared_error: 0.1905 - Accuracy: 1.0000\n",
            "Epoch 7/50\n",
            "1/1 [==============================] - 0s 9ms/step - loss: 0.0270 - root_mean_squared_error: 0.1644 - Accuracy: 1.0000\n",
            "Epoch 8/50\n",
            "1/1 [==============================] - 0s 10ms/step - loss: 0.0200 - root_mean_squared_error: 0.1413 - Accuracy: 1.0000\n",
            "Epoch 9/50\n",
            "1/1 [==============================] - 0s 9ms/step - loss: 0.0146 - root_mean_squared_error: 0.1209 - Accuracy: 1.0000\n",
            "Epoch 10/50\n",
            "1/1 [==============================] - 0s 11ms/step - loss: 0.0106 - root_mean_squared_error: 0.1028 - Accuracy: 1.0000\n",
            "Epoch 11/50\n",
            "1/1 [==============================] - 0s 9ms/step - loss: 0.0076 - root_mean_squared_error: 0.0870 - Accuracy: 1.0000\n",
            "Epoch 12/50\n",
            "1/1 [==============================] - 0s 8ms/step - loss: 0.0054 - root_mean_squared_error: 0.0732 - Accuracy: 1.0000\n",
            "Epoch 13/50\n",
            "1/1 [==============================] - 0s 9ms/step - loss: 0.0038 - root_mean_squared_error: 0.0614 - Accuracy: 1.0000\n",
            "Epoch 14/50\n",
            "1/1 [==============================] - 0s 11ms/step - loss: 0.0026 - root_mean_squared_error: 0.0512 - Accuracy: 1.0000\n",
            "Epoch 15/50\n",
            "1/1 [==============================] - 0s 10ms/step - loss: 0.0018 - root_mean_squared_error: 0.0425 - Accuracy: 1.0000\n",
            "Epoch 16/50\n",
            "1/1 [==============================] - 0s 10ms/step - loss: 0.0012 - root_mean_squared_error: 0.0352 - Accuracy: 1.0000\n",
            "Epoch 17/50\n",
            "1/1 [==============================] - 0s 14ms/step - loss: 8.4607e-04 - root_mean_squared_error: 0.0291 - Accuracy: 1.0000\n",
            "Epoch 18/50\n",
            "1/1 [==============================] - 0s 9ms/step - loss: 5.7383e-04 - root_mean_squared_error: 0.0240 - Accuracy: 1.0000\n",
            "Epoch 19/50\n",
            "1/1 [==============================] - 0s 12ms/step - loss: 3.8748e-04 - root_mean_squared_error: 0.0197 - Accuracy: 1.0000\n",
            "Epoch 20/50\n",
            "1/1 [==============================] - 0s 20ms/step - loss: 2.6068e-04 - root_mean_squared_error: 0.0161 - Accuracy: 1.0000\n",
            "Epoch 21/50\n",
            "1/1 [==============================] - 0s 10ms/step - loss: 1.7482e-04 - root_mean_squared_error: 0.0132 - Accuracy: 1.0000\n",
            "Epoch 22/50\n",
            "1/1 [==============================] - 0s 11ms/step - loss: 1.1694e-04 - root_mean_squared_error: 0.0108 - Accuracy: 1.0000\n",
            "Epoch 23/50\n",
            "1/1 [==============================] - 0s 11ms/step - loss: 7.8054e-05 - root_mean_squared_error: 0.0088 - Accuracy: 1.0000\n",
            "Epoch 24/50\n",
            "1/1 [==============================] - 0s 11ms/step - loss: 5.2005e-05 - root_mean_squared_error: 0.0072 - Accuracy: 1.0000\n",
            "Epoch 25/50\n",
            "1/1 [==============================] - 0s 12ms/step - loss: 3.4597e-05 - root_mean_squared_error: 0.0059 - Accuracy: 1.0000\n",
            "Epoch 26/50\n",
            "1/1 [==============================] - 0s 11ms/step - loss: 2.2989e-05 - root_mean_squared_error: 0.0048 - Accuracy: 1.0000\n",
            "Epoch 27/50\n",
            "1/1 [==============================] - 0s 11ms/step - loss: 1.5260e-05 - root_mean_squared_error: 0.0039 - Accuracy: 1.0000\n",
            "Epoch 28/50\n",
            "1/1 [==============================] - 0s 11ms/step - loss: 1.0122e-05 - root_mean_squared_error: 0.0032 - Accuracy: 1.0000\n",
            "Epoch 29/50\n",
            "1/1 [==============================] - 0s 9ms/step - loss: 6.7086e-06 - root_mean_squared_error: 0.0026 - Accuracy: 1.0000\n",
            "Epoch 30/50\n",
            "1/1 [==============================] - 0s 11ms/step - loss: 4.4442e-06 - root_mean_squared_error: 0.0021 - Accuracy: 1.0000\n",
            "Epoch 31/50\n",
            "1/1 [==============================] - 0s 9ms/step - loss: 2.9427e-06 - root_mean_squared_error: 0.0017 - Accuracy: 1.0000\n",
            "Epoch 32/50\n",
            "1/1 [==============================] - 0s 8ms/step - loss: 1.9479e-06 - root_mean_squared_error: 0.0014 - Accuracy: 1.0000\n",
            "Epoch 33/50\n",
            "1/1 [==============================] - 0s 8ms/step - loss: 1.2889e-06 - root_mean_squared_error: 0.0011 - Accuracy: 1.0000\n",
            "Epoch 34/50\n",
            "1/1 [==============================] - 0s 9ms/step - loss: 8.5263e-07 - root_mean_squared_error: 9.2338e-04 - Accuracy: 1.0000\n",
            "Epoch 35/50\n",
            "1/1 [==============================] - 0s 10ms/step - loss: 5.6395e-07 - root_mean_squared_error: 7.5097e-04 - Accuracy: 1.0000\n",
            "Epoch 36/50\n",
            "1/1 [==============================] - 0s 7ms/step - loss: 3.7300e-07 - root_mean_squared_error: 6.1074e-04 - Accuracy: 1.0000\n",
            "Epoch 37/50\n",
            "1/1 [==============================] - 0s 8ms/step - loss: 2.4662e-07 - root_mean_squared_error: 4.9660e-04 - Accuracy: 1.0000\n",
            "Epoch 38/50\n",
            "1/1 [==============================] - 0s 10ms/step - loss: 1.6305e-07 - root_mean_squared_error: 4.0379e-04 - Accuracy: 1.0000\n",
            "Epoch 39/50\n",
            "1/1 [==============================] - 0s 9ms/step - loss: 1.0779e-07 - root_mean_squared_error: 3.2832e-04 - Accuracy: 1.0000\n",
            "Epoch 40/50\n",
            "1/1 [==============================] - 0s 10ms/step - loss: 7.1262e-08 - root_mean_squared_error: 2.6695e-04 - Accuracy: 1.0000\n",
            "Epoch 41/50\n",
            "1/1 [==============================] - 0s 9ms/step - loss: 4.7089e-08 - root_mean_squared_error: 2.1700e-04 - Accuracy: 1.0000\n",
            "Epoch 42/50\n",
            "1/1 [==============================] - 0s 12ms/step - loss: 3.1124e-08 - root_mean_squared_error: 1.7642e-04 - Accuracy: 1.0000\n",
            "Epoch 43/50\n",
            "1/1 [==============================] - 0s 7ms/step - loss: 2.0579e-08 - root_mean_squared_error: 1.4346e-04 - Accuracy: 1.0000\n",
            "Epoch 44/50\n",
            "1/1 [==============================] - 0s 10ms/step - loss: 1.3595e-08 - root_mean_squared_error: 1.1660e-04 - Accuracy: 1.0000\n",
            "Epoch 45/50\n",
            "1/1 [==============================] - 0s 5ms/step - loss: 8.9843e-09 - root_mean_squared_error: 9.4786e-05 - Accuracy: 1.0000\n",
            "Epoch 46/50\n",
            "1/1 [==============================] - 0s 9ms/step - loss: 5.9421e-09 - root_mean_squared_error: 7.7085e-05 - Accuracy: 1.0000\n",
            "Epoch 47/50\n",
            "1/1 [==============================] - 0s 9ms/step - loss: 3.9258e-09 - root_mean_squared_error: 6.2656e-05 - Accuracy: 1.0000\n",
            "Epoch 48/50\n",
            "1/1 [==============================] - 0s 8ms/step - loss: 2.5947e-09 - root_mean_squared_error: 5.0938e-05 - Accuracy: 1.0000\n",
            "Epoch 49/50\n",
            "1/1 [==============================] - 0s 9ms/step - loss: 1.7156e-09 - root_mean_squared_error: 4.1420e-05 - Accuracy: 1.0000\n",
            "Epoch 50/50\n",
            "1/1 [==============================] - 0s 8ms/step - loss: 1.1315e-09 - root_mean_squared_error: 3.3637e-05 - Accuracy: 1.0000\n"
          ],
          "name": "stdout"
        },
        {
          "output_type": "execute_result",
          "data": {
            "text/plain": [
              "<keras.callbacks.History at 0x7fe2ef4c60d0>"
            ]
          },
          "metadata": {},
          "execution_count": 86
        }
      ]
    },
    {
      "cell_type": "markdown",
      "metadata": {
        "id": "O5ab09b3uNKz"
      },
      "source": [
        "## Changed Weights"
      ]
    },
    {
      "cell_type": "code",
      "metadata": {
        "colab": {
          "base_uri": "https://localhost:8080/"
        },
        "id": "0CV7RWvBSUHE",
        "outputId": "46a6f2db-2448-4fda-c2c6-76f21c9ad4ac"
      },
      "source": [
        "a,b,c,d=model.get_weights()\n",
        "print(\"Changed Weights :\\n w1-{0}\\nb1-{1}\\nw2-{2}\\nb2-{3} \".format(a,b,c,d))"
      ],
      "execution_count": null,
      "outputs": [
        {
          "output_type": "stream",
          "text": [
            "Changed Weights :\n",
            " w1-[[ 0.265238   -0.07988539  0.2123415 ]\n",
            " [-0.1696086   0.1864192  -0.41604978]]\n",
            "b1-[ 0.23955876 -0.12867323 -0.12753884]\n",
            "w2-[[-0.35890642  0.42438975]\n",
            " [ 0.08272205 -0.17363277]\n",
            " [ 0.58709323 -0.18188441]]\n",
            "b2-[0.07456902 0.4029372 ] \n"
          ],
          "name": "stdout"
        }
      ]
    },
    {
      "cell_type": "markdown",
      "metadata": {
        "id": "rlWNGfAgsiDJ"
      },
      "source": [
        "## Predicting T1(given as **nail**)"
      ]
    },
    {
      "cell_type": "code",
      "metadata": {
        "id": "YdfgPIC_rf_C",
        "colab": {
          "base_uri": "https://localhost:8080/"
        },
        "outputId": "b6caf735-8756-4fd1-f5d2-c7db60efa6bf"
      },
      "source": [
        "op=model.predict(x).flatten()\n",
        "print(\"Desired output is {0}\".format(op))"
      ],
      "execution_count": null,
      "outputs": [
        {
          "output_type": "stream",
          "text": [
            "Desired output is [-0.1000118  0.5999632]\n"
          ],
          "name": "stdout"
        }
      ]
    },
    {
      "cell_type": "code",
      "metadata": {
        "id": "nlna84FTsouJ",
        "colab": {
          "base_uri": "https://localhost:8080/"
        },
        "outputId": "f780d7f4-14c3-471a-a5b9-fa81875b8d9c"
      },
      "source": [
        "from math import exp as e\n",
        "for i in op:\n",
        "  cl=round(1/(1+e(-i)))\n",
        "  print(cl)"
      ],
      "execution_count": null,
      "outputs": [
        {
          "output_type": "stream",
          "text": [
            "0\n",
            "1\n"
          ],
          "name": "stdout"
        }
      ]
    },
    {
      "cell_type": "markdown",
      "metadata": {
        "id": "9IfCZ9KQstUM"
      },
      "source": [
        "The predicted output class is 01 but the actual output class should be 10 for nail, so it is a **misclassification**"
      ]
    },
    {
      "cell_type": "markdown",
      "metadata": {
        "id": "RHFmi6FYqW-z"
      },
      "source": [
        "## Predicting T2(given as **screw**)"
      ]
    },
    {
      "cell_type": "code",
      "metadata": {
        "colab": {
          "base_uri": "https://localhost:8080/"
        },
        "id": "jhEkiuCVN8YK",
        "outputId": "f4413523-12bb-4aaf-b506-145e6ce00944"
      },
      "source": [
        "q=np.array([[.2,.3]])\n",
        "op=model.predict(q).flatten()\n",
        "print(\"Desired output is {0}\".format(op))"
      ],
      "execution_count": null,
      "outputs": [
        {
          "output_type": "stream",
          "text": [
            "Desired output is [-0.14274903  0.55910265]\n"
          ],
          "name": "stdout"
        }
      ]
    },
    {
      "cell_type": "code",
      "metadata": {
        "id": "uNYKRnrRqez5",
        "colab": {
          "base_uri": "https://localhost:8080/"
        },
        "outputId": "b8e662ad-0e8d-422d-ddf7-f4c303ed8041"
      },
      "source": [
        "from math import exp as e\n",
        "for i in op:\n",
        "  cls=round(1/(1+e(-i)))\n",
        "  print(cls)\n"
      ],
      "execution_count": null,
      "outputs": [
        {
          "output_type": "stream",
          "text": [
            "0\n",
            "1\n"
          ],
          "name": "stdout"
        }
      ]
    },
    {
      "cell_type": "markdown",
      "metadata": {
        "id": "K6Y7XsJssF3G"
      },
      "source": [
        "Since the predicted output class is 01, it belongs to class **screw**."
      ]
    }
  ]
}